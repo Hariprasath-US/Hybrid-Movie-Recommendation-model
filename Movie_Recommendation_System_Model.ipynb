{
 "cells": [
  {
   "cell_type": "markdown",
   "id": "c30abfe2-1581-4aab-b7aa-34a509b2fa06",
   "metadata": {},
   "source": [
    "### **1. Introduction and Project Objective**\n",
    "This report details the end-to-end development of a hybrid movie recommendation system. The primary objective is to build a robust engine that provides personalized movie suggestions to users by combining two powerful machine learning paradigms: Content-Based Filtering and Collaborative Filtering. By leveraging the MovieLens dataset, we will explore, process, and model the data to create a functional and accurate recommender. The final section will cover the steps for deploying this system as a simple web application using Flask."
   ]
  },
  {
   "cell_type": "markdown",
   "id": "3216a702-c347-4ca7-ab34-f512c44b29df",
   "metadata": {},
   "source": [
    "### **2. Foundational Concepts**\n",
    "A recommendation system is an information filtering system that seeks to predict the \"rating\" or \"preference\" a user would give to an item. The two core methods used in this project are:\n",
    "\n",
    "**Content-Based Filtering:** This method recommends items based on their inherent attributes. If a user has positively rated movies with the \"Action\" and \"Sci-Fi\" genres, the system will recommend other movies that share these characteristics. It answers the question: \"What other items are similar to the ones I like?\"\n",
    "\n",
    "**Collaborative Filtering:** This method leverages the power of the community. It identifies users with similar tastes and recommends movies that those users have liked. It answers the question: \"What do people with tastes similar to mine like?\"\n",
    "\n",
    "Our hybrid model will combine the outputs of both systems to provide more nuanced and reliable recommendations, mitigating the limitations of each individual approach."
   ]
  },
  {
   "cell_type": "markdown",
   "id": "224efdd3-afc7-4ecc-af80-f8e82b75699f",
   "metadata": {},
   "source": [
    "### **3. Environment Setup and Data Loading**\n",
    "The first step in any data science project is to set up the environment and load the data. We will use **pandas** for data manipulation, **scikit-learn** for implementing our content-based model, and the specialized **surprise** library for our collaborative filtering model."
   ]
  },
  {
   "cell_type": "code",
   "execution_count": 2,
   "id": "d2ab8a1f-9c41-41dc-8107-ad24a11c6edf",
   "metadata": {},
   "outputs": [
    {
     "name": "stdout",
     "output_type": "stream",
     "text": [
      "Loading the MovieLens dataset...\n",
      "Dataset loaded successfully.\n"
     ]
    }
   ],
   "source": [
    "# Import all necessary libraries for the project\n",
    "import pandas as pd\n",
    "import numpy as np\n",
    "from sklearn.feature_extraction.text import TfidfVectorizer\n",
    "from sklearn.metrics.pairwise import linear_kernel\n",
    "from surprise import Reader, Dataset, KNNBasic\n",
    "from surprise.model_selection import train_test_split\n",
    "from surprise import accuracy\n",
    "\n",
    "# Load the core datasets from the provided CSV files\n",
    "print(\"Loading the MovieLens dataset...\")\n",
    "movies_df = pd.read_csv(\"movies.csv\")\n",
    "ratings_df = pd.read_csv(\"ratings.csv\")\n",
    "print(\"Dataset loaded successfully.\")"
   ]
  },
  {
   "cell_type": "markdown",
   "id": "333ff443-9107-4878-a334-f79b621460e6",
   "metadata": {},
   "source": [
    "### **4. Exploratory Data Analysis (EDA) and Preprocessing**"
   ]
  },
  {
   "cell_type": "code",
   "execution_count": 3,
   "id": "7d6ba3a3-aca1-4a3e-8431-a1ded4932264",
   "metadata": {},
   "outputs": [
    {
     "name": "stdout",
     "output_type": "stream",
     "text": [
      "\n",
      "--- Movies DataFrame ---\n",
      "Shape: (9742, 3)\n",
      "   movieId                               title  \\\n",
      "0        1                    Toy Story (1995)   \n",
      "1        2                      Jumanji (1995)   \n",
      "2        3             Grumpier Old Men (1995)   \n",
      "3        4            Waiting to Exhale (1995)   \n",
      "4        5  Father of the Bride Part II (1995)   \n",
      "\n",
      "                                        genres  \n",
      "0  Adventure|Animation|Children|Comedy|Fantasy  \n",
      "1                   Adventure|Children|Fantasy  \n",
      "2                               Comedy|Romance  \n",
      "3                         Comedy|Drama|Romance  \n",
      "4                                       Comedy  \n"
     ]
    }
   ],
   "source": [
    "# --- Initial Data Inspection ---\n",
    "print(\"\\n--- Movies DataFrame ---\")\n",
    "print(\"Shape:\", movies_df.shape)\n",
    "print(movies_df.head())"
   ]
  },
  {
   "cell_type": "code",
   "execution_count": 4,
   "id": "c875c789-b91b-4fe9-ac2e-5519d1226627",
   "metadata": {},
   "outputs": [
    {
     "name": "stdout",
     "output_type": "stream",
     "text": [
      "\n",
      "--- Ratings DataFrame ---\n",
      "Shape: (100836, 4)\n",
      "   userId  movieId  rating  timestamp\n",
      "0       1        1     4.0  964982703\n",
      "1       1        3     4.0  964981247\n",
      "2       1        6     4.0  964982224\n",
      "3       1       47     5.0  964983815\n",
      "4       1       50     5.0  964982931\n"
     ]
    }
   ],
   "source": [
    "print(\"\\n--- Ratings DataFrame ---\")\n",
    "print(\"Shape:\", ratings_df.shape)\n",
    "print(ratings_df.head())"
   ]
  },
  {
   "cell_type": "code",
   "execution_count": 5,
   "id": "ba0dea3a-d233-4eb9-912c-eca793324ed6",
   "metadata": {},
   "outputs": [
    {
     "name": "stdout",
     "output_type": "stream",
     "text": [
      "\n",
      "Merging dataframes to create a consolidated view...\n"
     ]
    }
   ],
   "source": [
    "# --- Data Merging and Cleaning ---\n",
    "print(\"\\nMerging dataframes to create a consolidated view...\")\n",
    "merged_df = pd.merge(ratings_df, movies_df, on='movieId')"
   ]
  },
  {
   "cell_type": "code",
   "execution_count": 6,
   "id": "cdef7b04-f751-4d39-a050-0fa47ab928e3",
   "metadata": {},
   "outputs": [
    {
     "name": "stdout",
     "output_type": "stream",
     "text": [
      "\n",
      "Checking for any missing values in the merged DataFrame:\n",
      "userId       0\n",
      "movieId      0\n",
      "rating       0\n",
      "timestamp    0\n",
      "title        0\n",
      "genres       0\n",
      "dtype: int64\n"
     ]
    }
   ],
   "source": [
    "print(\"\\nChecking for any missing values in the merged DataFrame:\")\n",
    "print(merged_df.isnull().sum())"
   ]
  },
  {
   "cell_type": "code",
   "execution_count": 7,
   "id": "1365037a-3621-4c23-8395-db95cfd7d090",
   "metadata": {},
   "outputs": [
    {
     "name": "stdout",
     "output_type": "stream",
     "text": [
      "\n",
      "Consolidated DataFrame ready for modeling:\n",
      "   userId  movieId  rating  timestamp                        title  \\\n",
      "0       1        1     4.0  964982703             Toy Story (1995)   \n",
      "1       1        3     4.0  964981247      Grumpier Old Men (1995)   \n",
      "2       1        6     4.0  964982224                  Heat (1995)   \n",
      "3       1       47     5.0  964983815  Seven (a.k.a. Se7en) (1995)   \n",
      "4       1       50     5.0  964982931   Usual Suspects, The (1995)   \n",
      "\n",
      "                                        genres  \n",
      "0  Adventure|Animation|Children|Comedy|Fantasy  \n",
      "1                               Comedy|Romance  \n",
      "2                        Action|Crime|Thriller  \n",
      "3                             Mystery|Thriller  \n",
      "4                       Crime|Mystery|Thriller  \n"
     ]
    }
   ],
   "source": [
    "print(\"\\nConsolidated DataFrame ready for modeling:\")\n",
    "print(merged_df.head())"
   ]
  },
  {
   "cell_type": "markdown",
   "id": "131a690c-0e4e-463b-b5c8-2ef9fa059487",
   "metadata": {},
   "source": [
    "### **5.Model 1: Content-Based Filtering with TF-IDF**\n",
    "Our first model will recommend movies based on genre similarity. To do this, we need to convert the text-based genres into a numerical format. We will use the TF-IDF (Term Frequency-Inverse Document Frequency) technique, which creates a vector for each movie that represents the importance of each genre. We can then use Cosine Similarity to find the movies with the most similar vectors."
   ]
  },
  {
   "cell_type": "code",
   "execution_count": 8,
   "id": "639ea731-413b-44db-a8af-137cfb820f47",
   "metadata": {},
   "outputs": [
    {
     "name": "stdout",
     "output_type": "stream",
     "text": [
      "\n",
      "--- Section 5: Building the Content-Based Filtering Model ---\n"
     ]
    }
   ],
   "source": [
    "print(\"\\n--- Section 5: Building the Content-Based Filtering Model ---\")\n",
    "\n",
    "# --- Step 1: TF-IDF Vectorization ---\n",
    "# Fill any potential missing values in the 'genres' column\n",
    "movies_df['genres'] = movies_df['genres'].fillna('')"
   ]
  },
  {
   "cell_type": "code",
   "execution_count": 9,
   "id": "f69b9e29-76bc-48a0-ae53-cf993222660e",
   "metadata": {},
   "outputs": [],
   "source": [
    "# Initialize the TfidfVectorizer. This will transform our text genres into numerical vectors.\n",
    "tfidf = TfidfVectorizer(stop_words='english')\n",
    "tfidf_matrix = tfidf.fit_transform(movies_df['genres'])"
   ]
  },
  {
   "cell_type": "code",
   "execution_count": 10,
   "id": "ed43c3af-1589-4a92-bdef-1c407b55c5cd",
   "metadata": {},
   "outputs": [],
   "source": [
    "# --- Step 2: Cosine Similarity Calculation ---\n",
    "# Compute the cosine similarity matrix. This matrix contains the similarity score between all pairs of movies.\n",
    "cosine_sim = linear_kernel(tfidf_matrix, tfidf_matrix)"
   ]
  },
  {
   "cell_type": "code",
   "execution_count": 11,
   "id": "ca17768c-a541-4058-8dc7-cee6da967fa0",
   "metadata": {},
   "outputs": [],
   "source": [
    "# --- Step 3: Recommendation Function ---\n",
    "# Create a mapping from movie titles to their index for quick lookups\n",
    "indices = pd.Series(movies_df.index, index=movies_df['title']).drop_duplicates()\n",
    "\n",
    "def get_content_based_recommendations(title, cosine_sim=cosine_sim):\n",
    "    idx = indices[title]\n",
    "    sim_scores = list(enumerate(cosine_sim[idx]))\n",
    "    sim_scores = sorted(sim_scores, key=lambda x: x[1], reverse=True)\n",
    "    sim_scores = sim_scores[1:11]\n",
    "    movie_indices = [i[0] for i in sim_scores]\n",
    "    return movies_df['title'].iloc[movie_indices]"
   ]
  },
  {
   "cell_type": "code",
   "execution_count": 26,
   "id": "3264a743-e4bd-4ba2-a115-7fac53cdd1f8",
   "metadata": {},
   "outputs": [
    {
     "name": "stdout",
     "output_type": "stream",
     "text": [
      "\n",
      "Content-Based Recommendations for 'Jumanji (1995)':\n",
      "53                     Indian in the Cupboard, The (1995)\n",
      "109                     NeverEnding Story III, The (1994)\n",
      "767                       Escape to Witch Mountain (1975)\n",
      "1514            Darby O'Gill and the Little People (1959)\n",
      "1556                                  Return to Oz (1985)\n",
      "1617                        NeverEnding Story, The (1984)\n",
      "1618    NeverEnding Story II: The Next Chapter, The (1...\n",
      "1799                        Santa Claus: The Movie (1985)\n",
      "3574    Harry Potter and the Sorcerer's Stone (a.k.a. ...\n",
      "6075    Chronicles of Narnia: The Lion, the Witch and ...\n",
      "Name: title, dtype: object\n"
     ]
    }
   ],
   "source": [
    "# --- Example Usage ---\n",
    "example_title = 'Jumanji (1995)'\n",
    "print(f\"\\nContent-Based Recommendations for '{example_title}':\")\n",
    "print(get_content_based_recommendations(example_title))"
   ]
  },
  {
   "cell_type": "markdown",
   "id": "b3ba9468-18d7-44e0-9655-8d19dbbe7506",
   "metadata": {},
   "source": [
    "### **Distribution of Ratings**"
   ]
  },
  {
   "cell_type": "code",
   "execution_count": 44,
   "id": "0b91bbaf-e9cd-4a8c-89f9-e2e81a3aeb00",
   "metadata": {},
   "outputs": [],
   "source": [
    "import matplotlib.pyplot as plt\n",
    "import seaborn as sns"
   ]
  },
  {
   "cell_type": "code",
   "execution_count": 45,
   "id": "acad5d41-90c9-4ef0-a229-afb150366c42",
   "metadata": {},
   "outputs": [
    {
     "data": {
      "image/png": "[encoded data removed]",
      "text/plain": [
       "<Figure size 1000x600 with 1 Axes>"
      ]
     },
     "metadata": {},
     "output_type": "display_data"
    }
   ],
   "source": [
    "# Create a list of all genres\n",
    "all_genres = merged_df['genres'].str.split('|').explode()\n",
    "plt.figure(figsize=(10, 6))\n",
    "all_genres.value_counts().plot(kind='bar')\n",
    "plt.title('Frequency of Movie Genres')\n",
    "plt.show()"
   ]
  },
  {
   "cell_type": "code",
   "execution_count": 46,
   "id": "c3bf0342-718d-4d14-a6e5-81608b9e6da5",
   "metadata": {},
   "outputs": [
    {
     "data": {
      "image/png": "[encoded data removed]",
      "text/plain": [
       "<Figure size 640x480 with 1 Axes>"
      ]
     },
     "metadata": {},
     "output_type": "display_data"
    }
   ],
   "source": [
    "movie_counts = merged_df['title'].value_counts().head(10)\n",
    "movie_counts.sort_values(ascending=True).plot(kind='barh')\n",
    "plt.title('Top 10 Movies by Number of Ratings')\n",
    "plt.show()"
   ]
  },
  {
   "cell_type": "code",
   "execution_count": null,
   "id": "bdee444e-9843-4e81-97ad-199ffe71f536",
   "metadata": {},
   "outputs": [],
   "source": []
  },
  {
   "cell_type": "markdown",
   "id": "64c6a626-8b5a-4ca9-a351-6395829c8cd2",
   "metadata": {},
   "source": [
    "### **6. Model 2: Item-Item Collaborative Filtering**\n",
    "For our second model, we will use the surprise library to build an item-item collaborative filter. This model analyzes the ratings data to find movies that are commonly rated in a similar way by users. We will use the k-Nearest Neighbors (k-NN) algorithm to find these \"neighbor\" movies and then evaluate the model's accuracy using Root Mean Squared Error (RMSE)."
   ]
  },
  {
   "cell_type": "code",
   "execution_count": 27,
   "id": "0f4039ae-5d9c-4e01-92f3-291261afd4aa",
   "metadata": {},
   "outputs": [
    {
     "name": "stdout",
     "output_type": "stream",
     "text": [
      "\n",
      "--- Section 6: Building the Collaborative Filtering Model ---\n"
     ]
    }
   ],
   "source": [
    "print(\"\\n--- Section 6: Building the Collaborative Filtering Model ---\")\n",
    "\n",
    "# --- Step 1: Prepare Data for Surprise ---\n",
    "# The Reader is used to parse the rating scale from the dataset.\n",
    "reader = Reader(rating_scale=(0.5, 5))\n",
    "data = Dataset.load_from_df(ratings_df[['userId', 'movieId', 'rating']], reader)"
   ]
  },
  {
   "cell_type": "code",
   "execution_count": 28,
   "id": "eebfcaf2-688a-487b-9c37-f8f9cd5c1921",
   "metadata": {},
   "outputs": [
    {
     "name": "stdout",
     "output_type": "stream",
     "text": [
      "\n",
      "Training the Collaborative Filtering model...\n",
      "Computing the cosine similarity matrix...\n",
      "Done computing similarity matrix.\n",
      "Training complete.\n"
     ]
    }
   ],
   "source": [
    "# --- Step 2: Train-Test Split and Model Training ---\n",
    "trainset, testset = train_test_split(data, test_size=0.2, random_state=42)\n",
    "sim_options = {'name': 'cosine', 'user_based': False} # Use cosine similarity for item-based filtering\n",
    "model = KNNBasic(sim_options=sim_options)\n",
    "\n",
    "print(\"\\nTraining the Collaborative Filtering model...\")\n",
    "model.fit(trainset)\n",
    "print(\"Training complete.\")"
   ]
  },
  {
   "cell_type": "code",
   "execution_count": 29,
   "id": "cdc5ce22-a1d2-450d-aebb-a2fd6988b4b5",
   "metadata": {},
   "outputs": [
    {
     "name": "stdout",
     "output_type": "stream",
     "text": [
      "RMSE: 0.9800\n",
      "Model RMSE: 0.97995665962038\n"
     ]
    }
   ],
   "source": [
    "# --- Step 3: Model Evaluation ---\n",
    "predictions = model.test(testset)\n",
    "rmse = accuracy.rmse(predictions)\n",
    "print(f\"Model RMSE: {rmse}\")"
   ]
  },
  {
   "cell_type": "code",
   "execution_count": 30,
   "id": "c7c1a777-3b9f-4e5a-a3f1-1b4f8aeb2e9a",
   "metadata": {},
   "outputs": [],
   "source": [
    "# --- Step 4: Recommendation Function ---\n",
    "def get_collaborative_recommendations(user_id, model, movies_df, ratings_df, n=10):\n",
    "    all_movie_ids = ratings_df['movieId'].unique()\n",
    "    rated_movie_ids = ratings_df[ratings_df['userId'] == user_id]['movieId']\n",
    "    movies_to_predict_ids = np.setdiff1d(all_movie_ids, rated_movie_ids)\n",
    "    \n",
    "    predictions = [model.predict(user_id, movie_id) for movie_id in movies_to_predict_ids]\n",
    "    predictions.sort(key=lambda x: x.est, reverse=True)\n",
    "    \n",
    "    top_n_preds = predictions[:n]\n",
    "    recommended_movie_titles = [movies_df[movies_df['movieId'] == pred.iid]['title'].values[0] for pred in top_n_preds]\n",
    "    return recommended_movie_titles"
   ]
  },
  {
   "cell_type": "code",
   "execution_count": 31,
   "id": "e54e3959-3dbf-42b5-a0f4-136fb83cb915",
   "metadata": {},
   "outputs": [
    {
     "name": "stdout",
     "output_type": "stream",
     "text": [
      "\n",
      "Collaborative Filtering Recommendations for User ID '217':\n",
      "['Motherhood (2009)', \"Mom's Night Out (2014)\", 'What Time Is It There? (Ni neibian jidian) (2001)', 'Make Way for Tomorrow (1937)', 'Begotten (1990)', 'Only Yesterday (Omohide poro poro) (1991)', \"Ivan's Childhood (a.k.a. My Name is Ivan) (Ivanovo detstvo) (1962)\", 'Match Factory Girl, The (Tulitikkutehtaan tyttö) (1990)', 'Polytechnique (2009)', 'Town Called Panic, A (Panique au village) (2009)']\n"
     ]
    }
   ],
   "source": [
    "# --- Example Usage ---\n",
    "example_user_id = 217\n",
    "print(f\"\\nCollaborative Filtering Recommendations for User ID '{example_user_id}':\")\n",
    "print(get_collaborative_recommendations(example_user_id, model, movies_df, ratings_df))"
   ]
  },
  {
   "cell_type": "markdown",
   "id": "9aa22527-f90e-4194-900a-1f21a47e4add",
   "metadata": {},
   "source": [
    "### **7. Hybrid Model and Deployment 🚀**\n",
    "The final step is to combine our two models into a hybrid system and create a simple web interface for deployment using Flask. Our hybrid strategy will be a simple mixing approach: we will generate lists from both models and combine them to create a final, more comprehensive list of recommendations."
   ]
  },
  {
   "cell_type": "code",
   "execution_count": 32,
   "id": "7b887676-6855-4101-8e8c-7015378a752a",
   "metadata": {},
   "outputs": [
    {
     "name": "stdout",
     "output_type": "stream",
     "text": [
      "\n",
      "--- Section 7: Building and Deploying the Hybrid System ---\n"
     ]
    }
   ],
   "source": [
    "print(\"\\n--- Section 7: Building and Deploying the Hybrid System ---\")\n",
    "\n",
    "# --- Hybrid Recommendation Function ---\n",
    "def get_hybrid_recommendations(user_id, movie_title, model, movies_df, ratings_df, n=10):\n",
    "    content_recs = list(get_content_based_recommendations(movie_title))\n",
    "    collab_recs = get_collaborative_recommendations(user_id, model, movies_df, ratings_df)\n",
    "    \n",
    "    # Combine lists, ensuring no duplicates\n",
    "    hybrid_recs = collab_recs\n",
    "    for movie in content_recs:\n",
    "        if movie not in hybrid_recs:\n",
    "            hybrid_recs.append(movie)\n",
    "            \n",
    "    return hybrid_recs[:n]"
   ]
  },
  {
   "cell_type": "code",
   "execution_count": 33,
   "id": "f6a529f9-b222-4aa3-a892-f666fc7208b4",
   "metadata": {},
   "outputs": [
    {
     "name": "stdout",
     "output_type": "stream",
     "text": [
      "\n",
      "Hybrid Recommendations for User '217' based on their potential interest in 'Jumanji (1995)':\n",
      "['Motherhood (2009)', \"Mom's Night Out (2014)\", 'What Time Is It There? (Ni neibian jidian) (2001)', 'Make Way for Tomorrow (1937)', 'Begotten (1990)', 'Only Yesterday (Omohide poro poro) (1991)', \"Ivan's Childhood (a.k.a. My Name is Ivan) (Ivanovo detstvo) (1962)\", 'Match Factory Girl, The (Tulitikkutehtaan tyttö) (1990)', 'Polytechnique (2009)', 'Town Called Panic, A (Panique au village) (2009)']\n"
     ]
    }
   ],
   "source": [
    "# --- Example Usage ---\n",
    "print(f\"\\nHybrid Recommendations for User '{example_user_id}' based on their potential interest in '{example_title}':\")\n",
    "print(get_hybrid_recommendations(example_user_id, example_title, model, movies_df, ratings_df))"
   ]
  },
  {
   "cell_type": "code",
   "execution_count": 43,
   "id": "aee6aebd-27af-4999-8fe4-d2f6ad1cfe2a",
   "metadata": {},
   "outputs": [
    {
     "name": "stdout",
     "output_type": "stream",
     "text": [
      "Collaborative Filtering Model RMSE: 0.9800\n"
     ]
    }
   ],
   "source": [
    "print(f\"Collaborative Filtering Model RMSE: 0.9800\")"
   ]
  },
  {
   "cell_type": "markdown",
   "id": "b5f4b8ea-ede6-4821-9df0-6ccbaee4b70f",
   "metadata": {},
   "source": [
    "### **Summary**"
   ]
  },
  {
   "cell_type": "markdown",
   "id": "55377647-22c6-4b07-951e-a0cf83804db8",
   "metadata": {},
   "source": [
    "This project, titled the **\"Movie Recommendation System,\"** involved the end-to-end development of a hybrid movie recommendation engine using the MovieLens dataset.\n",
    "\n",
    "**Project Objective**\n",
    "The primary goal was to create a robust and personalized recommendation system by combining two powerful machine learning paradigms to mitigate the weaknesses of each individual approach.\n",
    "\n",
    "**Core Models\n",
    "Content-Based Filtering:**\n",
    "\n",
    "**Goal:** Recommends movies based on the inherent attributes, specifically genres.\n",
    "\n",
    "**Method:** Uses TF-IDF (Term Frequency-Inverse Document Frequency) to create numerical feature vectors for each movie's genres, and then calculates similarity using Cosine Similarity.\n",
    "\n",
    "**Collaborative Filtering (Item-Item):**\n",
    "\n",
    "**Goal:** Recommends movies based on the preferences of users with similar tastes.\n",
    "\n",
    "**Method:** Implemented using the k-Nearest Neighbors (k-NN) algorithm from the surprise library to find items that are commonly rated in a similar way by the community.\n",
    "\n",
    "### **Hybrid Approach and Evaluation**\n",
    "**Hybrid Strategy:** The final model blends the recommendations from both Content-Based (genre similarity) and Collaborative Filtering (user/community patterns) to provide a more comprehensive list of suggestions.\n",
    "\n",
    "**Model Performance:** The Collaborative Filtering model was evaluated using the Root Mean Squared Error (RMSE) and achieved an accuracy score of **≈0.9800.**"
   ]
  },
  {
   "cell_type": "code",
   "execution_count": null,
   "id": "4f0da6fc-5a86-4074-803d-728e268c3a9f",
   "metadata": {},
   "outputs": [],
   "source": []
  }
 ],
 "metadata": {
  "kernelspec": {
   "display_name": "Python 3 (ipykernel)",
   "language": "python",
   "name": "python3"
  },
  "language_info": {
   "codemirror_mode": {
    "name": "ipython",
    "version": 3
   },
   "file_extension": ".py",
   "mimetype": "text/x-python",
   "name": "python",
   "nbconvert_exporter": "python",
   "pygments_lexer": "ipython3",
   "version": "3.9.23"
  }
 },
 "nbformat": 4,
 "nbformat_minor": 5
}
